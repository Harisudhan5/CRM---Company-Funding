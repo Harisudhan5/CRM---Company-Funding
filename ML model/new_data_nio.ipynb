{
 "cells": [
  {
   "cell_type": "code",
   "execution_count": 1,
   "metadata": {},
   "outputs": [],
   "source": [
    "import pandas as pd\n",
    "import numpy as np\n",
    "import matplotlib.pyplot as plt\n",
    "from sklearn.model_selection import train_test_split\n",
    "from sklearn.feature_extraction.text import CountVectorizer\n",
    "from sklearn.preprocessing import LabelEncoder\n",
    "from sklearn.naive_bayes import MultinomialNB\n",
    "from sklearn.linear_model import LogisticRegression\n",
    "from sklearn.tree import DecisionTreeClassifier\n",
    "from sklearn.ensemble import RandomForestClassifier, AdaBoostClassifier\n",
    "from sklearn.svm import SVC\n",
    "import seaborn as sns\n",
    "from sklearn.metrics import classification_report, accuracy_score, confusion_matrix\n"
   ]
  },
  {
   "cell_type": "code",
   "execution_count": 2,
   "metadata": {},
   "outputs": [],
   "source": [
    "data = pd.read_csv(filepath_or_buffer='C://Projects//Zoho crm//Datasets//Preprocessed Data//new_data_.csv', sep=',', header=0)"
   ]
  },
  {
   "cell_type": "code",
   "execution_count": 5,
   "metadata": {},
   "outputs": [
    {
     "data": {
      "text/plain": [
       "B2B SaaS    99\n",
       "Name: Software_Type, dtype: int64"
      ]
     },
     "execution_count": 5,
     "metadata": {},
     "output_type": "execute_result"
    }
   ],
   "source": [
    "data.head()"
   ]
  },
  {
   "cell_type": "code",
   "execution_count": 4,
   "metadata": {},
   "outputs": [
    {
     "data": {
      "text/plain": [
       "Company_Name           0\n",
       "Founder_Name           0\n",
       "Founder_linkedin_id    0\n",
       "No_of_Employees        0\n",
       "Funding_Type           0\n",
       "Year_Founded           0\n",
       "Software_Type          0\n",
       "Industry_Type          0\n",
       "Category               0\n",
       "Size_of_Company        0\n",
       "Company_Website        0\n",
       "Company_Linkedin_id    0\n",
       "City                   0\n",
       "Address                0\n",
       "Short_Desription       0\n",
       "dtype: int64"
      ]
     },
     "execution_count": 4,
     "metadata": {},
     "output_type": "execute_result"
    }
   ],
   "source": [
    "data.isnull().sum()"
   ]
  },
  {
   "cell_type": "code",
   "execution_count": 5,
   "metadata": {},
   "outputs": [],
   "source": [
    "data['Founder_Name'].fillna('Unknown',inplace=True)\n",
    "data['Address'].fillna('No Address Available',inplace=True)\n",
    "data['Company_Website'].fillna('No Website Available',inplace=True)"
   ]
  },
  {
   "cell_type": "code",
   "execution_count": 6,
   "metadata": {},
   "outputs": [
    {
     "name": "stdout",
     "output_type": "stream",
     "text": [
      "<class 'pandas.core.frame.DataFrame'>\n",
      "RangeIndex: 99 entries, 0 to 98\n",
      "Data columns (total 15 columns):\n",
      " #   Column               Non-Null Count  Dtype \n",
      "---  ------               --------------  ----- \n",
      " 0   Company_Name         99 non-null     object\n",
      " 1   Founder_Name         99 non-null     object\n",
      " 2   Founder_linkedin_id  99 non-null     object\n",
      " 3   No_of_Employees      99 non-null     object\n",
      " 4   Funding_Type         99 non-null     object\n",
      " 5   Year_Founded         99 non-null     int64 \n",
      " 6   Software_Type        99 non-null     object\n",
      " 7   Industry_Type        99 non-null     object\n",
      " 8   Category             99 non-null     object\n",
      " 9   Size_of_Company      99 non-null     object\n",
      " 10  Company_Website      99 non-null     object\n",
      " 11  Company_Linkedin_id  99 non-null     object\n",
      " 12  City                 99 non-null     object\n",
      " 13  Address              99 non-null     object\n",
      " 14  Short_Desription     99 non-null     object\n",
      "dtypes: int64(1), object(14)\n",
      "memory usage: 11.7+ KB\n"
     ]
    }
   ],
   "source": [
    "data.info()"
   ]
  },
  {
   "cell_type": "code",
   "execution_count": 7,
   "metadata": {},
   "outputs": [
    {
     "data": {
      "text/plain": [
       "0     Anatomically-precise 3D and 4D surface imaging...\n",
       "1     Browser-based video, voice chat and screen sha...\n",
       "2               AI-based business intelligence platform\n",
       "3     Supply chain planning software and POS data an...\n",
       "4          Privileged Access Application for Salesforce\n",
       "                            ...                        \n",
       "94           Inventory and material management software\n",
       "95                                   Interview software\n",
       "96                                          Ag software\n",
       "97                               Cybersecurity platform\n",
       "98    Front-end automated testing for running unit a...\n",
       "Name: Short_Desription, Length: 99, dtype: object"
      ]
     },
     "execution_count": 7,
     "metadata": {},
     "output_type": "execute_result"
    }
   ],
   "source": [
    "data.Short_Desription"
   ]
  },
  {
   "cell_type": "code",
   "execution_count": 8,
   "metadata": {},
   "outputs": [
    {
     "data": {
      "text/plain": [
       "Self-funded               54\n",
       "VC-funded                 14\n",
       "Acquired                  12\n",
       "Angel or Seed Funding      9\n",
       "Public                     5\n",
       "Other                      3\n",
       "Private Equity funding     2\n",
       "Name: Funding_Type, dtype: int64"
      ]
     },
     "execution_count": 8,
     "metadata": {},
     "output_type": "execute_result"
    }
   ],
   "source": [
    "data[\"Funding_Type\"].value_counts()"
   ]
  },
  {
   "cell_type": "code",
   "execution_count": 9,
   "metadata": {},
   "outputs": [
    {
     "data": {
      "text/plain": [
       "Horizontal                                 61\n",
       "Healthcare                                 15\n",
       "Legal                                       3\n",
       "Construction                                3\n",
       "Retail                                      3\n",
       "Energy, Gas, Oil, Utilities                 2\n",
       "Education                                   2\n",
       "Automotive                                  2\n",
       "Entertainment, Hospitality, Travel          1\n",
       "Real Estate & Property Mgt.                 1\n",
       "Financial Services                          1\n",
       "Sports and Fitness                          1\n",
       "Food                                        1\n",
       "Logistics, Supply Chain, Transportation     1\n",
       "CPG                                         1\n",
       "Agriculture                                 1\n",
       "Name: Industry_Type, dtype: int64"
      ]
     },
     "execution_count": 9,
     "metadata": {},
     "output_type": "execute_result"
    }
   ],
   "source": [
    "data[\"Industry_Type\"].value_counts()"
   ]
  },
  {
   "cell_type": "code",
   "execution_count": 10,
   "metadata": {},
   "outputs": [
    {
     "data": {
      "text/plain": [
       "['Horizontal',\n",
       " 'Healthcare',\n",
       " 'Legal',\n",
       " 'Energy, Gas, Oil, Utilities',\n",
       " 'Construction',\n",
       " 'Entertainment, Hospitality, Travel',\n",
       " 'Retail',\n",
       " 'Real Estate & Property Mgt.',\n",
       " 'Financial Services',\n",
       " 'Education',\n",
       " 'Automotive',\n",
       " 'Sports and Fitness',\n",
       " 'Food',\n",
       " 'Logistics, Supply Chain, Transportation',\n",
       " 'CPG',\n",
       " 'Agriculture']"
      ]
     },
     "execution_count": 10,
     "metadata": {},
     "output_type": "execute_result"
    }
   ],
   "source": [
    "list(data[\"Industry_Type\"].unique())"
   ]
  },
  {
   "cell_type": "code",
   "execution_count": 11,
   "metadata": {},
   "outputs": [
    {
     "data": {
      "text/plain": [
       "11-50 employees         40\n",
       "51-200 employees        19\n",
       "1-10 employees          16\n",
       "1001-5000 employees     12\n",
       "10,001+ employees        5\n",
       "501-1000 employees       3\n",
       "201-500 employees        3\n",
       "5001-10000 employees     1\n",
       "Name: No_of_Employees, dtype: int64"
      ]
     },
     "execution_count": 11,
     "metadata": {},
     "output_type": "execute_result"
    }
   ],
   "source": [
    "data[\"No_of_Employees\"].value_counts()"
   ]
  },
  {
   "cell_type": "code",
   "execution_count": 12,
   "metadata": {},
   "outputs": [
    {
     "data": {
      "text/plain": [
       "Small      40\n",
       "Medium     22\n",
       "Large      21\n",
       "Startup    16\n",
       "Name: Size_of_Company, dtype: int64"
      ]
     },
     "execution_count": 12,
     "metadata": {},
     "output_type": "execute_result"
    }
   ],
   "source": [
    "data[\"Size_of_Company\"].value_counts()"
   ]
  },
  {
   "cell_type": "code",
   "execution_count": 13,
   "metadata": {},
   "outputs": [
    {
     "data": {
      "text/plain": [
       "Index(['Company_Name', 'Founder_Name', 'Founder_linkedin_id',\n",
       "       'No_of_Employees', 'Funding_Type', 'Year_Founded', 'Software_Type',\n",
       "       'Industry_Type', 'Category', 'Size_of_Company', 'Company_Website',\n",
       "       'Company_Linkedin_id', 'City', 'Address', 'Short_Desription'],\n",
       "      dtype='object')"
      ]
     },
     "execution_count": 13,
     "metadata": {},
     "output_type": "execute_result"
    }
   ],
   "source": [
    "data.columns"
   ]
  },
  {
   "cell_type": "code",
   "execution_count": 14,
   "metadata": {},
   "outputs": [],
   "source": [
    "columns = ['Founder_Name','Founder_linkedin_id','Year_Founded', 'Company_Website',\n",
    "       'Company_Linkedin_id', 'City','Address', 'Short_Desription']\n",
    "data = data.drop(columns=columns)"
   ]
  },
  {
   "cell_type": "code",
   "execution_count": 15,
   "metadata": {},
   "outputs": [
    {
     "data": {
      "text/html": [
       "<div>\n",
       "<style scoped>\n",
       "    .dataframe tbody tr th:only-of-type {\n",
       "        vertical-align: middle;\n",
       "    }\n",
       "\n",
       "    .dataframe tbody tr th {\n",
       "        vertical-align: top;\n",
       "    }\n",
       "\n",
       "    .dataframe thead th {\n",
       "        text-align: right;\n",
       "    }\n",
       "</style>\n",
       "<table border=\"1\" class=\"dataframe\">\n",
       "  <thead>\n",
       "    <tr style=\"text-align: right;\">\n",
       "      <th></th>\n",
       "      <th>Company_Name</th>\n",
       "      <th>No_of_Employees</th>\n",
       "      <th>Funding_Type</th>\n",
       "      <th>Software_Type</th>\n",
       "      <th>Industry_Type</th>\n",
       "      <th>Category</th>\n",
       "      <th>Size_of_Company</th>\n",
       "    </tr>\n",
       "  </thead>\n",
       "  <tbody>\n",
       "    <tr>\n",
       "      <th>0</th>\n",
       "      <td>3dMD</td>\n",
       "      <td>11-50 employees</td>\n",
       "      <td>Self-funded</td>\n",
       "      <td>B2B SaaS</td>\n",
       "      <td>Horizontal</td>\n",
       "      <td>On-Demand Services</td>\n",
       "      <td>Small</td>\n",
       "    </tr>\n",
       "    <tr>\n",
       "      <th>1</th>\n",
       "      <td>86Borders</td>\n",
       "      <td>11-50 employees</td>\n",
       "      <td>VC-funded</td>\n",
       "      <td>B2B SaaS</td>\n",
       "      <td>Horizontal</td>\n",
       "      <td>Communications</td>\n",
       "      <td>Small</td>\n",
       "    </tr>\n",
       "    <tr>\n",
       "      <th>2</th>\n",
       "      <td>Absolute E</td>\n",
       "      <td>11-50 employees</td>\n",
       "      <td>Self-funded</td>\n",
       "      <td>B2B SaaS</td>\n",
       "      <td>Horizontal</td>\n",
       "      <td>Analytics and BI</td>\n",
       "      <td>Small</td>\n",
       "    </tr>\n",
       "    <tr>\n",
       "      <th>3</th>\n",
       "      <td>Absolute Value</td>\n",
       "      <td>11-50 employees</td>\n",
       "      <td>Self-funded</td>\n",
       "      <td>B2B SaaS</td>\n",
       "      <td>Horizontal</td>\n",
       "      <td>Business Mgt and ERP</td>\n",
       "      <td>Small</td>\n",
       "    </tr>\n",
       "    <tr>\n",
       "      <th>4</th>\n",
       "      <td>accessnow</td>\n",
       "      <td>1-10 employees</td>\n",
       "      <td>Self-funded</td>\n",
       "      <td>B2B SaaS</td>\n",
       "      <td>Horizontal</td>\n",
       "      <td>Compliance</td>\n",
       "      <td>Startup</td>\n",
       "    </tr>\n",
       "  </tbody>\n",
       "</table>\n",
       "</div>"
      ],
      "text/plain": [
       "     Company_Name  No_of_Employees Funding_Type Software_Type Industry_Type  \\\n",
       "0            3dMD  11-50 employees  Self-funded      B2B SaaS    Horizontal   \n",
       "1       86Borders  11-50 employees    VC-funded      B2B SaaS    Horizontal   \n",
       "2      Absolute E  11-50 employees  Self-funded      B2B SaaS    Horizontal   \n",
       "3  Absolute Value  11-50 employees  Self-funded      B2B SaaS    Horizontal   \n",
       "4       accessnow   1-10 employees  Self-funded      B2B SaaS    Horizontal   \n",
       "\n",
       "               Category Size_of_Company  \n",
       "0    On-Demand Services           Small  \n",
       "1        Communications           Small  \n",
       "2      Analytics and BI           Small  \n",
       "3  Business Mgt and ERP           Small  \n",
       "4            Compliance         Startup  "
      ]
     },
     "execution_count": 15,
     "metadata": {},
     "output_type": "execute_result"
    }
   ],
   "source": [
    "data.head()"
   ]
  },
  {
   "cell_type": "code",
   "execution_count": 16,
   "metadata": {},
   "outputs": [],
   "source": [
    "data = data[1:]"
   ]
  },
  {
   "cell_type": "code",
   "execution_count": 17,
   "metadata": {},
   "outputs": [
    {
     "data": {
      "text/plain": [
       "['Horizontal',\n",
       " 'Healthcare',\n",
       " 'Legal',\n",
       " 'Energy, Gas, Oil, Utilities',\n",
       " 'Construction',\n",
       " 'Entertainment, Hospitality, Travel',\n",
       " 'Retail',\n",
       " 'Real Estate & Property Mgt.',\n",
       " 'Financial Services',\n",
       " 'Education',\n",
       " 'Automotive',\n",
       " 'Sports and Fitness',\n",
       " 'Food',\n",
       " 'Logistics, Supply Chain, Transportation',\n",
       " 'CPG',\n",
       " 'Agriculture']"
      ]
     },
     "execution_count": 17,
     "metadata": {},
     "output_type": "execute_result"
    }
   ],
   "source": [
    "cat_list = list(data['Industry_Type'].unique())\n",
    "cat_list "
   ]
  },
  {
   "cell_type": "code",
   "execution_count": null,
   "metadata": {},
   "outputs": [],
   "source": []
  },
  {
   "cell_type": "code",
   "execution_count": 18,
   "metadata": {},
   "outputs": [],
   "source": [
    "label_encoders = {}\n",
    "categorical_columns = ['Industry_Type', 'Category', 'Software_Type', 'No_of_Employees','Size_of_Company', 'Funding_Type']\n",
    "for column in categorical_columns:\n",
    "    le = LabelEncoder()\n",
    "    data[column] = le.fit_transform(data[column])\n",
    "    label_encoders[column] = le"
   ]
  },
  {
   "cell_type": "code",
   "execution_count": 19,
   "metadata": {},
   "outputs": [],
   "source": [
    "data.dropna(inplace=True)"
   ]
  },
  {
   "cell_type": "code",
   "execution_count": 20,
   "metadata": {},
   "outputs": [],
   "source": [
    "X = data[categorical_columns]"
   ]
  },
  {
   "cell_type": "code",
   "execution_count": 21,
   "metadata": {},
   "outputs": [
    {
     "data": {
      "text/html": [
       "<div>\n",
       "<style scoped>\n",
       "    .dataframe tbody tr th:only-of-type {\n",
       "        vertical-align: middle;\n",
       "    }\n",
       "\n",
       "    .dataframe tbody tr th {\n",
       "        vertical-align: top;\n",
       "    }\n",
       "\n",
       "    .dataframe thead th {\n",
       "        text-align: right;\n",
       "    }\n",
       "</style>\n",
       "<table border=\"1\" class=\"dataframe\">\n",
       "  <thead>\n",
       "    <tr style=\"text-align: right;\">\n",
       "      <th></th>\n",
       "      <th>Company_Name</th>\n",
       "      <th>No_of_Employees</th>\n",
       "      <th>Funding_Type</th>\n",
       "      <th>Software_Type</th>\n",
       "      <th>Industry_Type</th>\n",
       "      <th>Category</th>\n",
       "      <th>Size_of_Company</th>\n",
       "    </tr>\n",
       "  </thead>\n",
       "  <tbody>\n",
       "    <tr>\n",
       "      <th>1</th>\n",
       "      <td>86Borders</td>\n",
       "      <td>3</td>\n",
       "      <td>6</td>\n",
       "      <td>0</td>\n",
       "      <td>10</td>\n",
       "      <td>5</td>\n",
       "      <td>2</td>\n",
       "    </tr>\n",
       "    <tr>\n",
       "      <th>2</th>\n",
       "      <td>Absolute E</td>\n",
       "      <td>3</td>\n",
       "      <td>5</td>\n",
       "      <td>0</td>\n",
       "      <td>10</td>\n",
       "      <td>1</td>\n",
       "      <td>2</td>\n",
       "    </tr>\n",
       "    <tr>\n",
       "      <th>3</th>\n",
       "      <td>Absolute Value</td>\n",
       "      <td>3</td>\n",
       "      <td>5</td>\n",
       "      <td>0</td>\n",
       "      <td>10</td>\n",
       "      <td>3</td>\n",
       "      <td>2</td>\n",
       "    </tr>\n",
       "    <tr>\n",
       "      <th>4</th>\n",
       "      <td>accessnow</td>\n",
       "      <td>0</td>\n",
       "      <td>5</td>\n",
       "      <td>0</td>\n",
       "      <td>10</td>\n",
       "      <td>6</td>\n",
       "      <td>3</td>\n",
       "    </tr>\n",
       "    <tr>\n",
       "      <th>5</th>\n",
       "      <td>Accord Systems</td>\n",
       "      <td>3</td>\n",
       "      <td>5</td>\n",
       "      <td>0</td>\n",
       "      <td>9</td>\n",
       "      <td>6</td>\n",
       "      <td>2</td>\n",
       "    </tr>\n",
       "    <tr>\n",
       "      <th>...</th>\n",
       "      <td>...</td>\n",
       "      <td>...</td>\n",
       "      <td>...</td>\n",
       "      <td>...</td>\n",
       "      <td>...</td>\n",
       "      <td>...</td>\n",
       "      <td>...</td>\n",
       "    </tr>\n",
       "    <tr>\n",
       "      <th>94</th>\n",
       "      <td>CribMaster</td>\n",
       "      <td>7</td>\n",
       "      <td>5</td>\n",
       "      <td>0</td>\n",
       "      <td>14</td>\n",
       "      <td>2</td>\n",
       "      <td>1</td>\n",
       "    </tr>\n",
       "    <tr>\n",
       "      <th>95</th>\n",
       "      <td>Critical Fit</td>\n",
       "      <td>0</td>\n",
       "      <td>5</td>\n",
       "      <td>0</td>\n",
       "      <td>10</td>\n",
       "      <td>10</td>\n",
       "      <td>3</td>\n",
       "    </tr>\n",
       "    <tr>\n",
       "      <th>96</th>\n",
       "      <td>Cultura Technologies</td>\n",
       "      <td>1</td>\n",
       "      <td>5</td>\n",
       "      <td>0</td>\n",
       "      <td>0</td>\n",
       "      <td>3</td>\n",
       "      <td>0</td>\n",
       "    </tr>\n",
       "    <tr>\n",
       "      <th>97</th>\n",
       "      <td>Cyber 2.0</td>\n",
       "      <td>3</td>\n",
       "      <td>5</td>\n",
       "      <td>0</td>\n",
       "      <td>10</td>\n",
       "      <td>7</td>\n",
       "      <td>2</td>\n",
       "    </tr>\n",
       "    <tr>\n",
       "      <th>98</th>\n",
       "      <td>Cypress.io</td>\n",
       "      <td>3</td>\n",
       "      <td>6</td>\n",
       "      <td>0</td>\n",
       "      <td>10</td>\n",
       "      <td>4</td>\n",
       "      <td>2</td>\n",
       "    </tr>\n",
       "  </tbody>\n",
       "</table>\n",
       "<p>98 rows × 7 columns</p>\n",
       "</div>"
      ],
      "text/plain": [
       "            Company_Name  No_of_Employees  Funding_Type  Software_Type  \\\n",
       "1              86Borders                3             6              0   \n",
       "2             Absolute E                3             5              0   \n",
       "3         Absolute Value                3             5              0   \n",
       "4              accessnow                0             5              0   \n",
       "5         Accord Systems                3             5              0   \n",
       "..                   ...              ...           ...            ...   \n",
       "94            CribMaster                7             5              0   \n",
       "95          Critical Fit                0             5              0   \n",
       "96  Cultura Technologies                1             5              0   \n",
       "97             Cyber 2.0                3             5              0   \n",
       "98            Cypress.io                3             6              0   \n",
       "\n",
       "    Industry_Type  Category  Size_of_Company  \n",
       "1              10         5                2  \n",
       "2              10         1                2  \n",
       "3              10         3                2  \n",
       "4              10         6                3  \n",
       "5               9         6                2  \n",
       "..            ...       ...              ...  \n",
       "94             14         2                1  \n",
       "95             10        10                3  \n",
       "96              0         3                0  \n",
       "97             10         7                2  \n",
       "98             10         4                2  \n",
       "\n",
       "[98 rows x 7 columns]"
      ]
     },
     "execution_count": 21,
     "metadata": {},
     "output_type": "execute_result"
    }
   ],
   "source": [
    "data"
   ]
  },
  {
   "cell_type": "code",
   "execution_count": 22,
   "metadata": {},
   "outputs": [
    {
     "data": {
      "text/html": [
       "<div>\n",
       "<style scoped>\n",
       "    .dataframe tbody tr th:only-of-type {\n",
       "        vertical-align: middle;\n",
       "    }\n",
       "\n",
       "    .dataframe tbody tr th {\n",
       "        vertical-align: top;\n",
       "    }\n",
       "\n",
       "    .dataframe thead th {\n",
       "        text-align: right;\n",
       "    }\n",
       "</style>\n",
       "<table border=\"1\" class=\"dataframe\">\n",
       "  <thead>\n",
       "    <tr style=\"text-align: right;\">\n",
       "      <th></th>\n",
       "      <th>Industry_Type</th>\n",
       "      <th>Category</th>\n",
       "      <th>Software_Type</th>\n",
       "      <th>No_of_Employees</th>\n",
       "      <th>Size_of_Company</th>\n",
       "      <th>Funding_Type</th>\n",
       "    </tr>\n",
       "  </thead>\n",
       "  <tbody>\n",
       "    <tr>\n",
       "      <th>1</th>\n",
       "      <td>10</td>\n",
       "      <td>5</td>\n",
       "      <td>0</td>\n",
       "      <td>3</td>\n",
       "      <td>2</td>\n",
       "      <td>6</td>\n",
       "    </tr>\n",
       "    <tr>\n",
       "      <th>2</th>\n",
       "      <td>10</td>\n",
       "      <td>1</td>\n",
       "      <td>0</td>\n",
       "      <td>3</td>\n",
       "      <td>2</td>\n",
       "      <td>5</td>\n",
       "    </tr>\n",
       "    <tr>\n",
       "      <th>3</th>\n",
       "      <td>10</td>\n",
       "      <td>3</td>\n",
       "      <td>0</td>\n",
       "      <td>3</td>\n",
       "      <td>2</td>\n",
       "      <td>5</td>\n",
       "    </tr>\n",
       "    <tr>\n",
       "      <th>4</th>\n",
       "      <td>10</td>\n",
       "      <td>6</td>\n",
       "      <td>0</td>\n",
       "      <td>0</td>\n",
       "      <td>3</td>\n",
       "      <td>5</td>\n",
       "    </tr>\n",
       "    <tr>\n",
       "      <th>5</th>\n",
       "      <td>9</td>\n",
       "      <td>6</td>\n",
       "      <td>0</td>\n",
       "      <td>3</td>\n",
       "      <td>2</td>\n",
       "      <td>5</td>\n",
       "    </tr>\n",
       "    <tr>\n",
       "      <th>...</th>\n",
       "      <td>...</td>\n",
       "      <td>...</td>\n",
       "      <td>...</td>\n",
       "      <td>...</td>\n",
       "      <td>...</td>\n",
       "      <td>...</td>\n",
       "    </tr>\n",
       "    <tr>\n",
       "      <th>94</th>\n",
       "      <td>14</td>\n",
       "      <td>2</td>\n",
       "      <td>0</td>\n",
       "      <td>7</td>\n",
       "      <td>1</td>\n",
       "      <td>5</td>\n",
       "    </tr>\n",
       "    <tr>\n",
       "      <th>95</th>\n",
       "      <td>10</td>\n",
       "      <td>10</td>\n",
       "      <td>0</td>\n",
       "      <td>0</td>\n",
       "      <td>3</td>\n",
       "      <td>5</td>\n",
       "    </tr>\n",
       "    <tr>\n",
       "      <th>96</th>\n",
       "      <td>0</td>\n",
       "      <td>3</td>\n",
       "      <td>0</td>\n",
       "      <td>1</td>\n",
       "      <td>0</td>\n",
       "      <td>5</td>\n",
       "    </tr>\n",
       "    <tr>\n",
       "      <th>97</th>\n",
       "      <td>10</td>\n",
       "      <td>7</td>\n",
       "      <td>0</td>\n",
       "      <td>3</td>\n",
       "      <td>2</td>\n",
       "      <td>5</td>\n",
       "    </tr>\n",
       "    <tr>\n",
       "      <th>98</th>\n",
       "      <td>10</td>\n",
       "      <td>4</td>\n",
       "      <td>0</td>\n",
       "      <td>3</td>\n",
       "      <td>2</td>\n",
       "      <td>6</td>\n",
       "    </tr>\n",
       "  </tbody>\n",
       "</table>\n",
       "<p>98 rows × 6 columns</p>\n",
       "</div>"
      ],
      "text/plain": [
       "    Industry_Type  Category  Software_Type  No_of_Employees  Size_of_Company  \\\n",
       "1              10         5              0                3                2   \n",
       "2              10         1              0                3                2   \n",
       "3              10         3              0                3                2   \n",
       "4              10         6              0                0                3   \n",
       "5               9         6              0                3                2   \n",
       "..            ...       ...            ...              ...              ...   \n",
       "94             14         2              0                7                1   \n",
       "95             10        10              0                0                3   \n",
       "96              0         3              0                1                0   \n",
       "97             10         7              0                3                2   \n",
       "98             10         4              0                3                2   \n",
       "\n",
       "    Funding_Type  \n",
       "1              6  \n",
       "2              5  \n",
       "3              5  \n",
       "4              5  \n",
       "5              5  \n",
       "..           ...  \n",
       "94             5  \n",
       "95             5  \n",
       "96             5  \n",
       "97             5  \n",
       "98             6  \n",
       "\n",
       "[98 rows x 6 columns]"
      ]
     },
     "execution_count": 22,
     "metadata": {},
     "output_type": "execute_result"
    }
   ],
   "source": [
    "X"
   ]
  },
  {
   "cell_type": "code",
   "execution_count": 23,
   "metadata": {},
   "outputs": [
    {
     "name": "stdout",
     "output_type": "stream",
     "text": [
      "[10, 9, 11, 3, 14, 5, 4, 1, 6, 13, 7, 15, 8, 12, 2, 0]\n",
      "16\n"
     ]
    }
   ],
   "source": [
    "class_counts = data[\"Industry_Type\"].value_counts()\n",
    "unique_classes = class_counts.index.tolist()\n",
    "\n",
    "# Number of unique classes\n",
    "num_classes = len(unique_classes)\n",
    "print(unique_classes)\n",
    "print(num_classes)"
   ]
  },
  {
   "cell_type": "code",
   "execution_count": 24,
   "metadata": {},
   "outputs": [],
   "source": [
    "potential_categories = ['Analytics and BI',\n",
    " 'Business Mgt and ERP', 'AI and Machine Learning',\n",
    " 'Virtual Reality', 'IT Mgt''Cybersecurity',\n",
    " 'Cloud and Software Dev Tools',]\n",
    "potential_category_codes = label_encoders['Category'].fit_transform(potential_categories)"
   ]
  },
  {
   "cell_type": "code",
   "execution_count": 6,
   "metadata": {},
   "outputs": [
    {
     "data": {
      "text/plain": [
       "B2B SaaS    99\n",
       "Name: Software_Type, dtype: int64"
      ]
     },
     "execution_count": 6,
     "metadata": {},
     "output_type": "execute_result"
    }
   ],
   "source": [
    "'''potential_categories = ['On-Demand Services',\n",
    " 'Communications',\n",
    " 'Business Mgt and ERP',\n",
    " 'Compliance',\n",
    " 'Practice Management',\n",
    " 'Sales and Marketing',     \n",
    " 'Logistics and Supply Chain',\n",
    " 'Accounting and Finance',\n",
    " 'Ecommerce',\n",
    " 'Document Management',\n",
    " 'HR and Recruiting',\n",
    " 'Point of Sale',\n",
    " 'Marketplace',\n",
    " 'Automation',\n",
    " 'Clinical',\n",
    " 'Student Mgt',\n",
    " 'Practice Mgt',\n",
    " 'eCommerce']\n",
    "potential_category_codes = label_encoders['Category'].fit_transform(potential_categories)'''\n",
    "data[\"Software_Type\"].value_counts()"
   ]
  },
  {
   "cell_type": "code",
   "execution_count": 26,
   "metadata": {},
   "outputs": [
    {
     "name": "stdout",
     "output_type": "stream",
     "text": [
      "1     0\n",
      "2     0\n",
      "3     0\n",
      "4     1\n",
      "5     0\n",
      "     ..\n",
      "94    0\n",
      "95    1\n",
      "96    1\n",
      "97    0\n",
      "98    0\n",
      "Length: 98, dtype: int64\n"
     ]
    }
   ],
   "source": [
    "y = data.apply(\n",
    "    lambda row: 1 if (\n",
    "        row['Industry_Type'] == label_encoders['Industry_Type'].fit_transform(['Financial Services'])[0] or  label_encoders['Industry_Type'].fit_transform(['Government'])[0] and \n",
    "        row['Software_Type'] == label_encoders['Software_Type'].fit_transform(['B2B SaaS'])[0] or\n",
    "        row['Size_of_Company'] == label_encoders['Size_of_Company'].fit_transform(['Medium'])[0]  and\n",
    "        row['Category'] not in potential_category_codes or\n",
    "        row['No_of_Employees'] == label_encoders['No_of_Employees'].fit_transform(['11-50 employees'])[0] or label_encoders['No_of_Employees'].fit_transform(['51-200 employees']) or\n",
    "        row['Funding_Type'] == label_encoders['Funding_Type'].fit_transform(['Self-funded'])[0] \n",
    "    ) else 0,\n",
    "    axis=1\n",
    ")\n",
    "\n",
    "\n",
    "print(y)"
   ]
  },
  {
   "cell_type": "code",
   "execution_count": 27,
   "metadata": {},
   "outputs": [
    {
     "data": {
      "text/plain": [
       "0    66\n",
       "1    32\n",
       "dtype: int64"
      ]
     },
     "execution_count": 27,
     "metadata": {},
     "output_type": "execute_result"
    }
   ],
   "source": [
    "y.value_counts()"
   ]
  },
  {
   "cell_type": "code",
   "execution_count": 28,
   "metadata": {},
   "outputs": [],
   "source": [
    "\n",
    "X_train, X_test, y_train, y_test = train_test_split(X, y, test_size=0.2, random_state=42)"
   ]
  },
  {
   "cell_type": "code",
   "execution_count": 29,
   "metadata": {},
   "outputs": [
    {
     "data": {
      "text/html": [
       "<style>#sk-container-id-1 {color: black;}#sk-container-id-1 pre{padding: 0;}#sk-container-id-1 div.sk-toggleable {background-color: white;}#sk-container-id-1 label.sk-toggleable__label {cursor: pointer;display: block;width: 100%;margin-bottom: 0;padding: 0.3em;box-sizing: border-box;text-align: center;}#sk-container-id-1 label.sk-toggleable__label-arrow:before {content: \"▸\";float: left;margin-right: 0.25em;color: #696969;}#sk-container-id-1 label.sk-toggleable__label-arrow:hover:before {color: black;}#sk-container-id-1 div.sk-estimator:hover label.sk-toggleable__label-arrow:before {color: black;}#sk-container-id-1 div.sk-toggleable__content {max-height: 0;max-width: 0;overflow: hidden;text-align: left;background-color: #f0f8ff;}#sk-container-id-1 div.sk-toggleable__content pre {margin: 0.2em;color: black;border-radius: 0.25em;background-color: #f0f8ff;}#sk-container-id-1 input.sk-toggleable__control:checked~div.sk-toggleable__content {max-height: 200px;max-width: 100%;overflow: auto;}#sk-container-id-1 input.sk-toggleable__control:checked~label.sk-toggleable__label-arrow:before {content: \"▾\";}#sk-container-id-1 div.sk-estimator input.sk-toggleable__control:checked~label.sk-toggleable__label {background-color: #d4ebff;}#sk-container-id-1 div.sk-label input.sk-toggleable__control:checked~label.sk-toggleable__label {background-color: #d4ebff;}#sk-container-id-1 input.sk-hidden--visually {border: 0;clip: rect(1px 1px 1px 1px);clip: rect(1px, 1px, 1px, 1px);height: 1px;margin: -1px;overflow: hidden;padding: 0;position: absolute;width: 1px;}#sk-container-id-1 div.sk-estimator {font-family: monospace;background-color: #f0f8ff;border: 1px dotted black;border-radius: 0.25em;box-sizing: border-box;margin-bottom: 0.5em;}#sk-container-id-1 div.sk-estimator:hover {background-color: #d4ebff;}#sk-container-id-1 div.sk-parallel-item::after {content: \"\";width: 100%;border-bottom: 1px solid gray;flex-grow: 1;}#sk-container-id-1 div.sk-label:hover label.sk-toggleable__label {background-color: #d4ebff;}#sk-container-id-1 div.sk-serial::before {content: \"\";position: absolute;border-left: 1px solid gray;box-sizing: border-box;top: 0;bottom: 0;left: 50%;z-index: 0;}#sk-container-id-1 div.sk-serial {display: flex;flex-direction: column;align-items: center;background-color: white;padding-right: 0.2em;padding-left: 0.2em;position: relative;}#sk-container-id-1 div.sk-item {position: relative;z-index: 1;}#sk-container-id-1 div.sk-parallel {display: flex;align-items: stretch;justify-content: center;background-color: white;position: relative;}#sk-container-id-1 div.sk-item::before, #sk-container-id-1 div.sk-parallel-item::before {content: \"\";position: absolute;border-left: 1px solid gray;box-sizing: border-box;top: 0;bottom: 0;left: 50%;z-index: -1;}#sk-container-id-1 div.sk-parallel-item {display: flex;flex-direction: column;z-index: 1;position: relative;background-color: white;}#sk-container-id-1 div.sk-parallel-item:first-child::after {align-self: flex-end;width: 50%;}#sk-container-id-1 div.sk-parallel-item:last-child::after {align-self: flex-start;width: 50%;}#sk-container-id-1 div.sk-parallel-item:only-child::after {width: 0;}#sk-container-id-1 div.sk-dashed-wrapped {border: 1px dashed gray;margin: 0 0.4em 0.5em 0.4em;box-sizing: border-box;padding-bottom: 0.4em;background-color: white;}#sk-container-id-1 div.sk-label label {font-family: monospace;font-weight: bold;display: inline-block;line-height: 1.2em;}#sk-container-id-1 div.sk-label-container {text-align: center;}#sk-container-id-1 div.sk-container {/* jupyter's `normalize.less` sets `[hidden] { display: none; }` but bootstrap.min.css set `[hidden] { display: none !important; }` so we also need the `!important` here to be able to override the default hidden behavior on the sphinx rendered scikit-learn.org. See: https://github.com/scikit-learn/scikit-learn/issues/21755 */display: inline-block !important;position: relative;}#sk-container-id-1 div.sk-text-repr-fallback {display: none;}</style><div id=\"sk-container-id-1\" class=\"sk-top-container\"><div class=\"sk-text-repr-fallback\"><pre>RandomForestClassifier(random_state=42)</pre><b>In a Jupyter environment, please rerun this cell to show the HTML representation or trust the notebook. <br />On GitHub, the HTML representation is unable to render, please try loading this page with nbviewer.org.</b></div><div class=\"sk-container\" hidden><div class=\"sk-item\"><div class=\"sk-estimator sk-toggleable\"><input class=\"sk-toggleable__control sk-hidden--visually\" id=\"sk-estimator-id-1\" type=\"checkbox\" checked><label for=\"sk-estimator-id-1\" class=\"sk-toggleable__label sk-toggleable__label-arrow\">RandomForestClassifier</label><div class=\"sk-toggleable__content\"><pre>RandomForestClassifier(random_state=42)</pre></div></div></div></div></div>"
      ],
      "text/plain": [
       "RandomForestClassifier(random_state=42)"
      ]
     },
     "execution_count": 29,
     "metadata": {},
     "output_type": "execute_result"
    }
   ],
   "source": [
    "\n",
    "classifier = RandomForestClassifier(random_state=42)\n",
    "classifier.fit(X_train, y_train)"
   ]
  },
  {
   "cell_type": "code",
   "execution_count": 30,
   "metadata": {},
   "outputs": [],
   "source": [
    "y_pred = classifier.predict(X_test)"
   ]
  },
  {
   "cell_type": "code",
   "execution_count": 31,
   "metadata": {},
   "outputs": [
    {
     "data": {
      "text/plain": [
       "array([1, 1, 1, 0, 1], dtype=int64)"
      ]
     },
     "execution_count": 31,
     "metadata": {},
     "output_type": "execute_result"
    }
   ],
   "source": [
    "y_pred[:5]"
   ]
  },
  {
   "cell_type": "code",
   "execution_count": 32,
   "metadata": {},
   "outputs": [
    {
     "name": "stdout",
     "output_type": "stream",
     "text": [
      "Potential customers to approach:\n",
      "63     CDC Software\n",
      "41      BBL Systems\n",
      "95     Critical Fit\n",
      "82    Compliance PT\n",
      "84         Conduent\n",
      "65         Ceridian\n",
      "43      BeyondTrust\n",
      "48        Blissbook\n",
      "45      BigContacts\n",
      "13          Aderant\n",
      "Name: Company_Name, dtype: object\n"
     ]
    }
   ],
   "source": [
    "\n",
    "potential_customers = data.loc[X_test[y_pred == 1].index, 'Company_Name']\n",
    "print(\"Potential customers to approach:\")\n",
    "print(potential_customers)"
   ]
  },
  {
   "cell_type": "code",
   "execution_count": 33,
   "metadata": {},
   "outputs": [
    {
     "data": {
      "text/plain": [
       "'              precision    recall  f1-score   support\\n\\n           0       1.00      0.91      0.95        11\\n           1       0.90      1.00      0.95         9\\n\\n    accuracy                           0.95        20\\n   macro avg       0.95      0.95      0.95        20\\nweighted avg       0.96      0.95      0.95        20\\n'"
      ]
     },
     "execution_count": 33,
     "metadata": {},
     "output_type": "execute_result"
    }
   ],
   "source": [
    "report = classification_report(y_test, y_pred)\n",
    "report"
   ]
  },
  {
   "cell_type": "code",
   "execution_count": 34,
   "metadata": {},
   "outputs": [
    {
     "data": {
      "text/plain": [
       "array([[10,  1],\n",
       "       [ 0,  9]], dtype=int64)"
      ]
     },
     "execution_count": 34,
     "metadata": {},
     "output_type": "execute_result"
    }
   ],
   "source": [
    "confusion = confusion_matrix(y_test, y_pred)\n",
    "confusion"
   ]
  },
  {
   "cell_type": "code",
   "execution_count": 35,
   "metadata": {},
   "outputs": [
    {
     "name": "stdout",
     "output_type": "stream",
     "text": [
      "Accuracy: 0.95\n"
     ]
    }
   ],
   "source": [
    "\n",
    "accuracy = accuracy_score(y_test, y_pred)\n",
    "print(f\"Accuracy: {accuracy:.2f}\")"
   ]
  },
  {
   "cell_type": "code",
   "execution_count": 36,
   "metadata": {},
   "outputs": [
    {
     "data": {
      "image/png": "[encoded data removed]",
      "text/plain": [
       "<Figure size 1000x600 with 4 Axes>"
      ]
     },
     "metadata": {},
     "output_type": "display_data"
    }
   ],
   "source": [
    "plt.figure(figsize=(10, 6))\n",
    "    \n",
    "plt.subplot(1, 3, 1)\n",
    "sns.heatmap(confusion, annot=True, fmt='d', cmap='Blues')\n",
    "plt.title(f'Confusion Matrix - {confusion}')\n",
    "plt.xlabel('Predicted')\n",
    "plt.ylabel('Actual')\n",
    "    \n",
    "plt.subplot(1, 3, 2)\n",
    "plt.text(0.01, 0.5, report, {'fontsize': 12})\n",
    "plt.title(f'Classification Report - {report}')\n",
    "    \n",
    "plt.axis('off')\n",
    "    \n",
    "    \n",
    "plt.subplot(1, 3, 3)\n",
    "plt.bar(['Accuracy'], accuracy, color='blue')\n",
    "plt.title(f'Accuracy - {accuracy}')\n",
    "plt.ylim(0, 1)\n",
    "    \n",
    "plt.tight_layout()\n",
    "plt.show()\n"
   ]
  },
  {
   "cell_type": "code",
   "execution_count": 37,
   "metadata": {},
   "outputs": [],
   "source": [
    "values = {1:\"YES\", 0:\"NO\"}\n",
    "y_pred_labels = [values[label] for label in y_pred]"
   ]
  },
  {
   "cell_type": "code",
   "execution_count": 38,
   "metadata": {},
   "outputs": [
    {
     "data": {
      "text/plain": [
       "['YES', 'YES', 'YES', 'NO', 'YES']"
      ]
     },
     "execution_count": 38,
     "metadata": {},
     "output_type": "execute_result"
    }
   ],
   "source": [
    "y_pred_labels[:5]"
   ]
  },
  {
   "cell_type": "code",
   "execution_count": 39,
   "metadata": {},
   "outputs": [],
   "source": [
    "# Save the model to a file using pickle\n",
    "import pickle\n",
    "with open('model_crm.pkl', 'wb') as file:\n",
    "    pickle.dump(classifier, file)\n"
   ]
  },
  {
   "cell_type": "code",
   "execution_count": null,
   "metadata": {},
   "outputs": [],
   "source": []
  },
  {
   "cell_type": "code",
   "execution_count": null,
   "metadata": {},
   "outputs": [],
   "source": []
  }
 ],
 "metadata": {
  "kernelspec": {
   "display_name": "my_gpu",
   "language": "python",
   "name": "python3"
  },
  "language_info": {
   "codemirror_mode": {
    "name": "ipython",
    "version": 3
   },
   "file_extension": ".py",
   "mimetype": "text/x-python",
   "name": "python",
   "nbconvert_exporter": "python",
   "pygments_lexer": "ipython3",
   "version": "3.10.12"
  },
  "orig_nbformat": 4
 },
 "nbformat": 4,
 "nbformat_minor": 2
}
